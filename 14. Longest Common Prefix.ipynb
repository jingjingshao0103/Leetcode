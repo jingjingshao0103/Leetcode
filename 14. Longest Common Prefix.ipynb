{
 "cells": [
  {
   "cell_type": "markdown",
   "id": "74046b59",
   "metadata": {},
   "source": [
    "14. Longest Common Prefix\n",
    "Write a function to find the longest common prefix string amongst an array of strings.\n",
    "\n",
    "If there is no common prefix, return an empty string \"\"."
   ]
  },
  {
   "cell_type": "code",
   "execution_count": 8,
   "id": "668fd927",
   "metadata": {},
   "outputs": [],
   "source": [
    "class Solution:\n",
    "    def longestCommonPrefix(self, strs: [str]) -> str:\n",
    "        if len(strs) == 0:\n",
    "            return \"\"\n",
    "        if len(strs) == 1:\n",
    "            return strs[0]\n",
    "        \n",
    "        prefix = min(strs, key=len)\n",
    "        for words in strs:\n",
    "            while words.startswith(prefix) is False:\n",
    "                prefix = prefix[:-1]\n",
    "        return prefix\n",
    "    \n",
    "    def longestCommonPrefix_iterative(self, strs: [str]) -> str:\n",
    "        if len(strs) == 0:\n",
    "            return \"\"\n",
    "        if len(strs) == 1:\n",
    "            return strs[0]\n",
    "        \n",
    "        prefix = min(strs, key=len)\n",
    "        for i, char in enumerate(prefix):\n",
    "            for words in strs:\n",
    "                if words[i] != char:\n",
    "                    prefix = prefix[:i]        \n",
    "        return prefix"
   ]
  },
  {
   "cell_type": "code",
   "execution_count": 10,
   "id": "959cf498",
   "metadata": {},
   "outputs": [
    {
     "name": "stdout",
     "output_type": "stream",
     "text": [
      "fl\n"
     ]
    }
   ],
   "source": [
    "strs = [\"flow\",\"fluid\", \"flaw\"]\n",
    "Sol = Solution()\n",
    "print(Sol.longestCommonPrefix_iterative(strs))"
   ]
  },
  {
   "cell_type": "code",
   "execution_count": null,
   "id": "4ea08d75",
   "metadata": {},
   "outputs": [],
   "source": [
    "1. start with the shortest word as prefix in strs \n",
    "2. scan through all words in the strs.\n",
    "3. delect the unequal element in prefix (shorten the prefix until find the common str in all words).\n",
    "3. update prefix until the common str."
   ]
  }
 ],
 "metadata": {
  "kernelspec": {
   "display_name": "Python 3 (ipykernel)",
   "language": "python",
   "name": "python3"
  },
  "language_info": {
   "codemirror_mode": {
    "name": "ipython",
    "version": 3
   },
   "file_extension": ".py",
   "mimetype": "text/x-python",
   "name": "python",
   "nbconvert_exporter": "python",
   "pygments_lexer": "ipython3",
   "version": "3.9.12"
  }
 },
 "nbformat": 4,
 "nbformat_minor": 5
}
