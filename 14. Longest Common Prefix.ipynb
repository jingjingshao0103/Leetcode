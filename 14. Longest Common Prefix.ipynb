{
 "cells": [
  {
   "cell_type": "markdown",
   "id": "74046b59",
   "metadata": {},
   "source": [
    "14. Longest Common Prefix\n",
    "Write a function to find the longest common prefix string amongst an array of strings.\n",
    "\n",
    "If there is no common prefix, return an empty string \"\"."
   ]
  },
  {
   "cell_type": "code",
   "execution_count": 3,
   "id": "668fd927",
   "metadata": {},
   "outputs": [],
   "source": [
    "class Solution:\n",
    "    def longestCommonPrefix(self, strs: [str]) -> str:\n",
    "        prefix = strs[0]\n",
    "        \n",
    "        for words in strs[1:]:\n",
    "            while words.startswith(prefix) is False:\n",
    "                prefix = prefix[:-1]\n",
    "        return prefix"
   ]
  },
  {
   "cell_type": "markdown",
   "id": "67a2fd44",
   "metadata": {},
   "source": [
    "1. start with the first word as prefix in strs \n",
    "2. scan through all other words.\n",
    "3. delect the unequal element in prefix (shorten the prefix until find the common str in all words)."
   ]
  }
 ],
 "metadata": {
  "kernelspec": {
   "display_name": "Python 3 (ipykernel)",
   "language": "python",
   "name": "python3"
  },
  "language_info": {
   "codemirror_mode": {
    "name": "ipython",
    "version": 3
   },
   "file_extension": ".py",
   "mimetype": "text/x-python",
   "name": "python",
   "nbconvert_exporter": "python",
   "pygments_lexer": "ipython3",
   "version": "3.8.11"
  }
 },
 "nbformat": 4,
 "nbformat_minor": 5
}
