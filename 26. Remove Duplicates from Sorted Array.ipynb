{
 "cells": [
  {
   "cell_type": "markdown",
   "id": "0ba1b408",
   "metadata": {},
   "source": [
    "26. Remove Duplicates from Sorted Array\n",
    "Given an integer array nums sorted in non-decreasing order, remove the duplicates in-place such that each unique element appears only once. The relative order of the elements should be kept the same.\n",
    "\n",
    "Since it is impossible to change the length of the array in some languages, you must instead have the result be placed in the first part of the array nums. More formally, if there are k elements after removing the duplicates, then the first k elements of nums should hold the final result. It does not matter what you leave beyond the first k elements.\n",
    "\n",
    "Return k after placing the final result in the first k slots of nums.\n",
    "\n",
    "Do not allocate extra space for another array. You must do this by modifying the input array in-place with O(1) extra memory."
   ]
  },
  {
   "cell_type": "code",
   "execution_count": 36,
   "id": "699c0b04",
   "metadata": {},
   "outputs": [],
   "source": [
    "class Solution:\n",
    "    def removeDuplicates(self, nums: [int]) -> int:\n",
    "        if len(nums) == 0:\n",
    "            return 0\n",
    "        i = 0\n",
    "        while i<len(nums)-1:\n",
    "            if nums[i] == nums[i+1]:\n",
    "                del nums[i]\n",
    "            else:\n",
    "                i +=1\n",
    "        return len(nums)\n",
    "        #O(n)\n",
    "    \n",
    "    def removeDuplicates_stack(self, nums: [int]) -> int:\n",
    "        stack = []\n",
    "        for i in nums:\n",
    "            if i not in stack:\n",
    "                stack.append(i)\n",
    "        return stack, len(stack)\n",
    "    \n",
    "    def removeDuplicates_inplace(self, nums: [int]) -> int:\n",
    "        if len(nums) <= 1:\n",
    "            return len(nums)\n",
    "        \n",
    "        j = 0\n",
    "        for i in range(len(nums)-1):\n",
    "            if nums[i] != nums[i+1]:\n",
    "                nums[j] = nums[i]\n",
    "                j +=1\n",
    "        nums[j] = nums[-1]\n",
    "        j += 1\n",
    "        return nums, j\n",
    "    \n",
    "    def removeDuplicates_recursive(self, nums: [int]) -> int:\n",
    "        if len(nums) <= 1:\n",
    "            return len(nums)\n",
    "        \n",
    "        for i in range(len(nums)-1):\n",
    "            if nums[i] == nums[i+1]:\n",
    "                nums.pop(i)\n",
    "                self.removeDuplicates_recursive(nums)\n",
    "                return len(nums)"
   ]
  },
  {
   "cell_type": "code",
   "execution_count": 37,
   "id": "e0a5358f",
   "metadata": {},
   "outputs": [
    {
     "name": "stdout",
     "output_type": "stream",
     "text": [
      "5\n"
     ]
    }
   ],
   "source": [
    "Sol= Solution()\n",
    "nums = [1,2,3,3,4,4,5]\n",
    "print(Sol.removeDuplicates_recursive(nums))"
   ]
  },
  {
   "cell_type": "markdown",
   "id": "71b114f4",
   "metadata": {},
   "source": [
    "1. Check the length of the list, if it is 0, automatically returns 0\n",
    "2. use the pointer i in the list (from 0 to len(numss))\n",
    "3. if nums[i] has an identical value nums[i+1], delect the element\n",
    "4. move on with the pointer\n",
    "5 return the rest length of the nums"
   ]
  }
 ],
 "metadata": {
  "kernelspec": {
   "display_name": "Python 3 (ipykernel)",
   "language": "python",
   "name": "python3"
  },
  "language_info": {
   "codemirror_mode": {
    "name": "ipython",
    "version": 3
   },
   "file_extension": ".py",
   "mimetype": "text/x-python",
   "name": "python",
   "nbconvert_exporter": "python",
   "pygments_lexer": "ipython3",
   "version": "3.9.12"
  }
 },
 "nbformat": 4,
 "nbformat_minor": 5
}
