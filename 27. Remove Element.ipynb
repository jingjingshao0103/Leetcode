{
 "cells": [
  {
   "cell_type": "markdown",
   "id": "64820eca",
   "metadata": {},
   "source": [
    "27. Remove Element\n",
    "Given an integer array nums and an integer val, remove all occurrences of val in nums in-place. The relative order of the elements may be changed.\n",
    "\n",
    "Since it is impossible to change the length of the array in some languages, you must instead have the result be placed in the first part of the array nums. More formally, if there are k elements after removing the duplicates, then the first k elements of nums should hold the final result. It does not matter what you leave beyond the first k elements.\n",
    "\n",
    "Return k after placing the final result in the first k slots of nums.\n",
    "\n",
    "Do not allocate extra space for another array. You must do this by modifying the input array in-place with O(1) extra memory."
   ]
  },
  {
   "cell_type": "code",
   "execution_count": 60,
   "id": "a5c4c3fb",
   "metadata": {},
   "outputs": [],
   "source": [
    "class Solution:\n",
    "    def removeElement(self, nums: [int], val: int) -> int:\n",
    "        if len(nums) == 0:\n",
    "            return 0\n",
    "        count = 0\n",
    "        for i in range(len(nums)):\n",
    "            if nums[i] != val:\n",
    "                nums[count] = nums[i]\n",
    "                count +=1\n",
    "        return count\n",
    "    \n",
    "    def removeElement_recursive(self, nums: [int], val: int) -> int:\n",
    "        if len(nums) == 0:\n",
    "            return nums, len(nums)\n",
    "        \n",
    "        for i, value in enumerate(nums):\n",
    "            if value == val:\n",
    "                nums.pop(i)\n",
    "                self.removeElement_recursive(nums, val)\n",
    "                return nums, len(nums)"
   ]
  },
  {
   "cell_type": "code",
   "execution_count": 61,
   "id": "49a76652",
   "metadata": {},
   "outputs": [
    {
     "name": "stdout",
     "output_type": "stream",
     "text": [
      "([0, 1, 3, 0, 4], 5)\n"
     ]
    }
   ],
   "source": [
    "sol = Solution()\n",
    "nums =[0,1,2,2,3,0,4,2]\n",
    "val = 2\n",
    "print(sol.removeElement_recursive(nums, val))"
   ]
  },
  {
   "cell_type": "markdown",
   "id": "64fcfedf",
   "metadata": {},
   "source": [
    "1. check the length of the nums.\n",
    "2. use the pinter(as a counter)\n",
    "3. go through all the values in the nums list\n",
    "4  if the element is not equal to the target value, place this element to the nums, counter the elements\n",
    "5. return the counter"
   ]
  },
  {
   "cell_type": "code",
   "execution_count": null,
   "id": "d8baa86d",
   "metadata": {},
   "outputs": [],
   "source": []
  }
 ],
 "metadata": {
  "kernelspec": {
   "display_name": "Python 3 (ipykernel)",
   "language": "python",
   "name": "python3"
  },
  "language_info": {
   "codemirror_mode": {
    "name": "ipython",
    "version": 3
   },
   "file_extension": ".py",
   "mimetype": "text/x-python",
   "name": "python",
   "nbconvert_exporter": "python",
   "pygments_lexer": "ipython3",
   "version": "3.9.12"
  }
 },
 "nbformat": 4,
 "nbformat_minor": 5
}
