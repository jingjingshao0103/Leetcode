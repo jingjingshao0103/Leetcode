{
 "cells": [
  {
   "cell_type": "markdown",
   "id": "64820eca",
   "metadata": {},
   "source": [
    "27. Remove Element\n",
    "Given an integer array nums and an integer val, remove all occurrences of val in nums in-place. The relative order of the elements may be changed.\n",
    "\n",
    "Since it is impossible to change the length of the array in some languages, you must instead have the result be placed in the first part of the array nums. More formally, if there are k elements after removing the duplicates, then the first k elements of nums should hold the final result. It does not matter what you leave beyond the first k elements.\n",
    "\n",
    "Return k after placing the final result in the first k slots of nums.\n",
    "\n",
    "Do not allocate extra space for another array. You must do this by modifying the input array in-place with O(1) extra memory."
   ]
  },
  {
   "cell_type": "code",
   "execution_count": 1,
   "id": "a5c4c3fb",
   "metadata": {},
   "outputs": [],
   "source": [
    "class Solution:\n",
    "    def removeElement(self, nums: [int], val: int) -> int:\n",
    "        if len(nums) == 0:\n",
    "            return 0\n",
    "        else: \n",
    "            count = 0\n",
    "            for i in range(len(nums)):\n",
    "                if nums[i] != val:\n",
    "                    nums[count] = nums[i]\n",
    "                    count +=1\n",
    "            return count"
   ]
  },
  {
   "cell_type": "markdown",
   "id": "64fcfedf",
   "metadata": {},
   "source": [
    "1. check the length of the nums.\n",
    "2. use the pinter(as a counter)\n",
    "3. go through all the values in the nums list\n",
    "4  if the element is not equal to the target value, place this element to the nums, counter the elements\n",
    "5. return the counter"
   ]
  }
 ],
 "metadata": {
  "kernelspec": {
   "display_name": "Python 3 (ipykernel)",
   "language": "python",
   "name": "python3"
  },
  "language_info": {
   "codemirror_mode": {
    "name": "ipython",
    "version": 3
   },
   "file_extension": ".py",
   "mimetype": "text/x-python",
   "name": "python",
   "nbconvert_exporter": "python",
   "pygments_lexer": "ipython3",
   "version": "3.8.11"
  }
 },
 "nbformat": 4,
 "nbformat_minor": 5
}
