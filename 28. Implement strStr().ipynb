{
 "cells": [
  {
   "cell_type": "markdown",
   "id": "99a60c26",
   "metadata": {},
   "source": [
    "28. Implement strStr()\n",
    "Implement strStr().\n",
    "\n",
    "Given two strings needle and haystack, return the index of the first occurrence of needle \n",
    "in haystack, or -1 if needle is not part of haystack."
   ]
  },
  {
   "cell_type": "code",
   "execution_count": 1,
   "id": "7644f789",
   "metadata": {},
   "outputs": [],
   "source": [
    "class Solution:\n",
    "    def strStr(self, haystack: str, needle: str) -> int:\n",
    "        if needle not in haystack:\n",
    "            return -1\n",
    "        else:\n",
    "            length = len(needle)\n",
    "            for i in range(len(haystack)-length+1):\n",
    "                if haystack[i:i+length] == needle:\n",
    "                    return i"
   ]
  },
  {
   "cell_type": "markdown",
   "id": "1840f813",
   "metadata": {},
   "source": [
    "1. check the whether needle is in haystack, if not, just return -1\n",
    "2. use the length of needle as a window to scan through haystack use the index i\n",
    "3. return the index i"
   ]
  }
 ],
 "metadata": {
  "kernelspec": {
   "display_name": "Python 3 (ipykernel)",
   "language": "python",
   "name": "python3"
  },
  "language_info": {
   "codemirror_mode": {
    "name": "ipython",
    "version": 3
   },
   "file_extension": ".py",
   "mimetype": "text/x-python",
   "name": "python",
   "nbconvert_exporter": "python",
   "pygments_lexer": "ipython3",
   "version": "3.9.12"
  }
 },
 "nbformat": 4,
 "nbformat_minor": 5
}
