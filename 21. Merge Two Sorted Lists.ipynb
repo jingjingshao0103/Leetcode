{
 "cells": [
  {
   "cell_type": "markdown",
   "id": "b766db67",
   "metadata": {},
   "source": [
    "21. Merge Two Sorted Lists\n",
    "You are given the heads of two sorted linked lists list1 and list2.\n",
    "\n",
    "Merge the two lists in a one sorted list. The list should be made by splicing together the nodes of the first two lists.\n",
    "\n",
    "Return the head of the merged linked list."
   ]
  },
  {
   "cell_type": "code",
   "execution_count": 3,
   "id": "179e22fd",
   "metadata": {},
   "outputs": [],
   "source": [
    "#Definition for singly-linked list.\n",
    "class ListNode:\n",
    "    def __init__(self, val=0, next=None):\n",
    "         self.val = val\n",
    "         self.next = next\n",
    "\n",
    "    def insert(self, element):\n",
    "        new_node = ListNode(0)\n",
    "        new_node.val = element\n",
    "        new_node.next = None\n",
    "        return new_node\n",
    "\n",
    "    def printList(self, node):\n",
    "        while (node != None):\n",
    "            print(node.val, end = \" \")\n",
    "            node = node.next\n",
    "\n",
    "class Solution:\n",
    "    def mergeTwoLists(self, list1: ListNode, list2: ListNode) -> [ListNode]:\n",
    "        if not list1:\n",
    "            return list2\n",
    "        if not list2:\n",
    "            return list1\n",
    "        if list1.val< list2.val:\n",
    "            list1.next = self.mergeTwoLists(list1.next,list2)\n",
    "            return list1\n",
    "        else:\n",
    "            list2.next = self.mergeTwoLists(list2.next,list1)\n",
    "            return list2\n",
    "    \n",
    "    def mergeTwoLists_iterative(self, list1: ListNode, list2: ListNode) -> [ListNode]:\n",
    "        new_list = tail = ListNode()\n",
    "        if not list1:\n",
    "            tail.next = list2\n",
    "            return new_list.next\n",
    "        if not list2:\n",
    "            tail.next = list1\n",
    "            return new_list.next \n",
    "        while list1 and list2:\n",
    "            if list1.val < list2.val:\n",
    "                tail.next = list1\n",
    "                list1 = list1.next\n",
    "            else:\n",
    "                tail.next = list2\n",
    "                list2 = list2.next\n",
    "            tail = tail.next\n",
    "        return new_list.next\n",
    "    \n",
    "    def mergeTwoLists_recursive(self, list1: ListNode, list2: ListNode) -> [ListNode]:\n",
    "        #base cases\n",
    "        if not list1: \n",
    "            return list2\n",
    "        if not list2:\n",
    "            return list1\n",
    "        if list1.val< list2.val:\n",
    "                tail = list1\n",
    "                tail.next = self.mergeTwoLists_recursive(list1.next,list2)\n",
    "        else:\n",
    "                tail = list2\n",
    "                tail.next = self.mergeTwoLists_recursive(list2.next,list1)\n",
    "        return tail        \n",
    "        "
   ]
  },
  {
   "cell_type": "code",
   "execution_count": 4,
   "id": "ce9db33d",
   "metadata": {},
   "outputs": [],
   "source": [
    "import time\n",
    "sol = Solution()\n",
    "List = ListNode()\n",
    "list1 = List.insert(1)\n",
    "list1.next = List.insert(3)\n",
    "list1.next.next = List.insert(7)\n",
    "list2 = List.insert(2)\n",
    "list2.next = List.insert(4)\n",
    "list2.next.next = List.insert(9) "
   ]
  },
  {
   "cell_type": "code",
   "execution_count": 5,
   "id": "0826576f",
   "metadata": {},
   "outputs": [
    {
     "name": "stdout",
     "output_type": "stream",
     "text": [
      "2 2 3 4 "
     ]
    }
   ],
   "source": [
    "list3 = ListNode(list2.val)\n",
    "list3.next = ListNode(2) \n",
    "list3.next.next = ListNode(3)\n",
    "list3.next.next.next = ListNode(4)\n",
    "List.printList(list3)"
   ]
  },
  {
   "cell_type": "code",
   "execution_count": 6,
   "id": "84135b9a",
   "metadata": {},
   "outputs": [
    {
     "name": "stdout",
     "output_type": "stream",
     "text": [
      "1 2 3 4 7 9 "
     ]
    }
   ],
   "source": [
    "#%timeit value = sol.mergeTwoLists(list1, list2)\n",
    "List.printList(sol.mergeTwoLists_recursive(list1, list2))\n",
    "#List.printList(sol.mergeTwoLists_iterative(list1, list2))\n"
   ]
  },
  {
   "cell_type": "code",
   "execution_count": 7,
   "id": "a35545d0",
   "metadata": {},
   "outputs": [
    {
     "name": "stdout",
     "output_type": "stream",
     "text": [
      "3000\n"
     ]
    }
   ],
   "source": [
    "import sys\n",
    "print(sys.getrecursionlimit())"
   ]
  },
  {
   "cell_type": "code",
   "execution_count": null,
   "id": "7fdad2e4",
   "metadata": {},
   "outputs": [],
   "source": [
    "Notes: (See IntroToAlgo_MIT Chapter 2)\n",
    "1. a divide-and-conquer approach:\n",
    "breaks the problem into several subproblems that are similar to the original problem but smaller in size\n",
    "it solves the subproblems recursively, and then combine these solutions to create a solution to the original problem.\n",
    "\n",
    "a) divide\n",
    "b) conquer\n",
    "c). combine\n",
    "\n",
    "special case: merge sort. \n",
    "problem size:n  subproblem size: n/2\n",
    "\n",
    "2. Recursive:\n",
    "Passing off the task\n",
    "\n",
    "3. Merge Sort: each stack has the task to splitt\n",
    "Recurrence is T(n)= nlog(n)\n",
    "sum_2^i(n/2^i-1)\n",
    "over i = 0 to log(n)-1\n",
    "1+2+4+8+....\n",
    "2^0 + 2^1 +2^2 + 2^3 + 2^k = 2^(k+1) -1\n",
    "f(x) = 1+ 2x+ 4x^2+ 8x^3+ ..2^n*x^n= 1/1-2x\n",
    "\n",
    "4. For loop is a kind of simulation of a manual labor process. (think about an engineer build a machine)\n",
    "On the contrary, the recursive function is more elegantly defined via mathematical formula.\n"
   ]
  }
 ],
 "metadata": {
  "kernelspec": {
   "display_name": "Python 3 (ipykernel)",
   "language": "python",
   "name": "python3"
  },
  "language_info": {
   "codemirror_mode": {
    "name": "ipython",
    "version": 3
   },
   "file_extension": ".py",
   "mimetype": "text/x-python",
   "name": "python",
   "nbconvert_exporter": "python",
   "pygments_lexer": "ipython3",
   "version": "3.9.12"
  }
 },
 "nbformat": 4,
 "nbformat_minor": 5
}
