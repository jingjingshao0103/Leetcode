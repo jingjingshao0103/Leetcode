{
 "cells": [
  {
   "cell_type": "markdown",
   "id": "c338624f",
   "metadata": {},
   "source": [
    "66. Plus One\n",
    "You are given a large integer represented as an integer array digits, where each digits[i] \n",
    "is the ith digit of the integer. The digits are ordered from most significant to least \n",
    "significant in left-to-right order. The large integer does not contain any leading 0's.\n",
    "\n",
    "Increment the large integer by one and return the resulting array of digits."
   ]
  },
  {
   "cell_type": "code",
   "execution_count": 5,
   "id": "ad9e8f53",
   "metadata": {},
   "outputs": [],
   "source": [
    "class Solution:\n",
    "    def plusOne(self, digits:[int]) -> [int]:\n",
    "        for i in reversed(range(len(digits))):\n",
    "            if digits[i] == 9:\n",
    "                digits[i] = 0\n",
    "            else:\n",
    "                digits[i] += 1\n",
    "                return digits\n",
    "        digits.insert(0,1)   \n",
    "        return digits\n",
    "    \n",
    "    def plusOne_recursive(self, digits:[int]) -> [int]:\n",
    "        if digits[-1] < 9:\n",
    "            digits[-1] += 1\n",
    "            return digits\n",
    "        if digits[-1] == 9 and len(digits)==1:\n",
    "            return [1,0]\n",
    "        else:\n",
    "            digits[-1] = 0\n",
    "            digits[:-1] = self.plusOne_recursive(digits[:-1])\n",
    "            return digits"
   ]
  },
  {
   "cell_type": "code",
   "execution_count": 8,
   "id": "1520ecfd",
   "metadata": {},
   "outputs": [
    {
     "name": "stdout",
     "output_type": "stream",
     "text": [
      "[1, 0, 0, 0]\n"
     ]
    }
   ],
   "source": [
    "sol = Solution()\n",
    "digits = [9,9,9]\n",
    "print(sol.plusOne_recursive(digits))"
   ]
  },
  {
   "cell_type": "code",
   "execution_count": null,
   "id": "cfb6f441",
   "metadata": {},
   "outputs": [],
   "source": []
  }
 ],
 "metadata": {
  "kernelspec": {
   "display_name": "Python 3 (ipykernel)",
   "language": "python",
   "name": "python3"
  },
  "language_info": {
   "codemirror_mode": {
    "name": "ipython",
    "version": 3
   },
   "file_extension": ".py",
   "mimetype": "text/x-python",
   "name": "python",
   "nbconvert_exporter": "python",
   "pygments_lexer": "ipython3",
   "version": "3.9.12"
  }
 },
 "nbformat": 4,
 "nbformat_minor": 5
}
