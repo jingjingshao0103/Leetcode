{
 "cells": [
  {
   "cell_type": "markdown",
   "id": "838ed0a4",
   "metadata": {},
   "source": [
    "13. Roman to Integer\n",
    "Roman numerals are represented by seven different symbols: I, V, X, L, C, D and M.\n",
    "\n",
    "Symbol       Value\n",
    "I             1\n",
    "V             5\n",
    "X             10\n",
    "L             50\n",
    "C             100\n",
    "D             500\n",
    "M             1000\n",
    "\n",
    "When the smaller value symbol is placed front of the bigger value symbol, do the subtraction.\n",
    "\n",
    "Task: Given a roman numeral, convert it to an integer."
   ]
  },
  {
   "cell_type": "code",
   "execution_count": 1,
   "id": "2339f920",
   "metadata": {},
   "outputs": [],
   "source": [
    "Map ={\"I\":1, \"V\":5, \"X\":10, \"L\":50, \"C\":100, \"D\":500, \"M\":1000}\n",
    "\n",
    "class Solution:\n",
    "    def romanToInt(self, s: str) -> int:\n",
    "        value = Map[s[-1]] \n",
    "        for i in reversed(range(len(s)-1)): #Go through the string from the second left foremost to the right .\n",
    "            if Map[s[i]] < Map[s[i+1]]: # only when the the left value s[i] smaller than the right one s[i+1], do the subtraction!!\n",
    "                value -= Map[s[i]]\n",
    "            else:\n",
    "                value += Map[s[i]] # else do the addition\n",
    "        return value"
   ]
  },
  {
   "cell_type": "code",
   "execution_count": 7,
   "id": "e914ae5f",
   "metadata": {},
   "outputs": [
    {
     "name": "stdout",
     "output_type": "stream",
     "text": [
      "531 ns ± 1.55 ns per loop (mean ± std. dev. of 7 runs, 1,000,000 loops each)\n",
      "8\n"
     ]
    }
   ],
   "source": [
    "import time\n",
    "s = \"VIII\"\n",
    "sol = Solution()\n",
    "\n",
    "%timeit value = sol.romanToInt(s)\n",
    "print (sol.romanToInt(s))"
   ]
  }
 ],
 "metadata": {
  "kernelspec": {
   "display_name": "Python 3 (ipykernel)",
   "language": "python",
   "name": "python3"
  },
  "language_info": {
   "codemirror_mode": {
    "name": "ipython",
    "version": 3
   },
   "file_extension": ".py",
   "mimetype": "text/x-python",
   "name": "python",
   "nbconvert_exporter": "python",
   "pygments_lexer": "ipython3",
   "version": "3.8.11"
  }
 },
 "nbformat": 4,
 "nbformat_minor": 5
}
