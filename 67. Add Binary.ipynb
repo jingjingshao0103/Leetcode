{
 "cells": [
  {
   "cell_type": "markdown",
   "id": "68bcc50c",
   "metadata": {},
   "source": [
    "67. Add Binary\n",
    "Given two binary strings a and b, return their sum as a binary string."
   ]
  },
  {
   "cell_type": "code",
   "execution_count": 32,
   "id": "52e08cff",
   "metadata": {},
   "outputs": [],
   "source": [
    "class Solution:\n",
    "    def addBinary(self, a: str, b: str) -> str:\n",
    "        answer = \"\"\n",
    "        maxlength = max(len(a), len(b))\n",
    "        a = a.zfill(maxlength)\n",
    "        b = b.zfill(maxlength)\n",
    "        carry = 0\n",
    "        for i in reversed(range(maxlength)):\n",
    "            total = int(a[i]) + int(b[i]) + carry\n",
    "            answer = str(total % 2) + answer\n",
    "            carry = total //2\n",
    "        if carry:\n",
    "            answer = \"1\" + answer\n",
    "        return answer\n",
    "    \n",
    "    def addBinary_recursive(self, a:str, b:str, carry = 0):\n",
    "        if not a and not b:\n",
    "            digit = str(carry%2)\n",
    "            return digit\n",
    "        if not a:\n",
    "            return self.addBinary_recursive(str(carry), b,0)\n",
    "        if not b:\n",
    "            return self.addBinary_recursive(a, str(carry),0)\n",
    "        \n",
    "        total = int(a[-1]) + int(b[-1]) + carry\n",
    "        digit = str(total%2)\n",
    "        carry = total // 2\n",
    "        return self.addBinary_recursive(a[:-1], b[:-1], carry) + digit"
   ]
  },
  {
   "cell_type": "code",
   "execution_count": 33,
   "id": "466d97ba",
   "metadata": {},
   "outputs": [
    {
     "name": "stdout",
     "output_type": "stream",
     "text": [
      "100\n"
     ]
    }
   ],
   "source": [
    "a = \"11\"\n",
    "b = \"1\"\n",
    "sol = Solution()\n",
    "print(sol.addBinary_recursive(a,b))"
   ]
  },
  {
   "cell_type": "code",
   "execution_count": null,
   "id": "21812220",
   "metadata": {},
   "outputs": [],
   "source": []
  }
 ],
 "metadata": {
  "kernelspec": {
   "display_name": "Python 3 (ipykernel)",
   "language": "python",
   "name": "python3"
  },
  "language_info": {
   "codemirror_mode": {
    "name": "ipython",
    "version": 3
   },
   "file_extension": ".py",
   "mimetype": "text/x-python",
   "name": "python",
   "nbconvert_exporter": "python",
   "pygments_lexer": "ipython3",
   "version": "3.9.12"
  }
 },
 "nbformat": 4,
 "nbformat_minor": 5
}
