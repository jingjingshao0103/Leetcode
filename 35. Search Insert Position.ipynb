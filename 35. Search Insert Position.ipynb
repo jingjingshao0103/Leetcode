{
 "cells": [
  {
   "cell_type": "markdown",
   "id": "ea5c1b32",
   "metadata": {},
   "source": [
    "35. Search Insert Position\n",
    "Given a sorted array of distinct integers and a target value, return the index if the target is found. If not, return the index where it would be if it were inserted in order.\n",
    "\n",
    "You must write an algorithm with O(log n) runtime complexity."
   ]
  },
  {
   "cell_type": "code",
   "execution_count": 1,
   "id": "bb21b8b8",
   "metadata": {},
   "outputs": [],
   "source": [
    "class Solution:\n",
    "    def searchInsert(self, nums: [int], target: int) -> int:\n",
    "        left, right = 0, len(nums)-1 # search from two sides\n",
    "        while left <= right:\n",
    "            pivot = (left+right)//2\n",
    "            if nums[pivot] == target:\n",
    "                return pivot\n",
    "            if target < nums[pivot]:\n",
    "                right = pivot -1\n",
    "            else:\n",
    "                left = pivot + 1\n",
    "        return left"
   ]
  },
  {
   "cell_type": "markdown",
   "id": "aafb95d9",
   "metadata": {},
   "source": [
    "1. use left and right two pointers.\n",
    "2. define pivot as the middel of the two pointers.\n",
    "3. compare the target value with the nums[pivot]:\n",
    "    if equal then it is the right place\n",
    "    if target is smaller than nums[pivot], move the right pointer backward\n",
    "    if target is larger than nums[pivot], move the left pointer forward"
   ]
  }
 ],
 "metadata": {
  "kernelspec": {
   "display_name": "Python 3 (ipykernel)",
   "language": "python",
   "name": "python3"
  },
  "language_info": {
   "codemirror_mode": {
    "name": "ipython",
    "version": 3
   },
   "file_extension": ".py",
   "mimetype": "text/x-python",
   "name": "python",
   "nbconvert_exporter": "python",
   "pygments_lexer": "ipython3",
   "version": "3.8.11"
  }
 },
 "nbformat": 4,
 "nbformat_minor": 5
}
