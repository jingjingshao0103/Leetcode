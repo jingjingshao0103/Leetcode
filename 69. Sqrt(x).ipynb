{
 "cells": [
  {
   "cell_type": "markdown",
   "id": "cf8f00cd",
   "metadata": {},
   "source": [
    "69. Sqrt(x)\n",
    "\n",
    "Given a non-negative integer x, compute and return the square root of x.\n",
    "\n",
    "Since the return type is an integer, the decimal digits are truncated, and only the integer part of the result is returned.\n",
    "\n",
    "Note: You are not allowed to use any built-in exponent function or operator, such as pow(x, 0.5) or x ** 0.5."
   ]
  },
  {
   "cell_type": "code",
   "execution_count": 2,
   "id": "8da0762a",
   "metadata": {},
   "outputs": [],
   "source": [
    "class Solution:\n",
    "    def mySqrt(self, x: int) -> int:\n",
    "        if x < 2:\n",
    "            return x\n",
    "        \n",
    "        left, right = 2, x//2\n",
    "        while left <= right:\n",
    "            pivot = left + (right -left) // 2\n",
    "            if pivot * pivot == x:\n",
    "                return pivot\n",
    "            if pivot * pivot < x:\n",
    "                left = pivot + 1\n",
    "            else:\n",
    "                right = pivot -1\n",
    "        \n",
    "        return left -1\n",
    "    \n",
    "    def mySqrt_recursive(self, x: int):\n",
    "        if x < 2:\n",
    "            return x\n",
    "        left, right = 2, x//2\n",
    "        \n",
    "        def search(left, right, x):\n",
    "            if left > right:\n",
    "                return left-1\n",
    "            \n",
    "            pivot = left + (right -left) // 2\n",
    "            if pivot* pivot == x:\n",
    "                return pivot\n",
    "            if pivot* pivot < x:\n",
    "                return search(pivot+1, right, x)\n",
    "            else:\n",
    "                return search(left, pivot-1, x)\n",
    "        \n",
    "        return search(left, right, x)"
   ]
  },
  {
   "cell_type": "code",
   "execution_count": null,
   "id": "2e0853e7",
   "metadata": {},
   "outputs": [],
   "source": [
    "sol = Solution()\n",
    "print sol.mySqrt_recursive("
   ]
  }
 ],
 "metadata": {
  "kernelspec": {
   "display_name": "Python 3 (ipykernel)",
   "language": "python",
   "name": "python3"
  },
  "language_info": {
   "codemirror_mode": {
    "name": "ipython",
    "version": 3
   },
   "file_extension": ".py",
   "mimetype": "text/x-python",
   "name": "python",
   "nbconvert_exporter": "python",
   "pygments_lexer": "ipython3",
   "version": "3.9.12"
  }
 },
 "nbformat": 4,
 "nbformat_minor": 5
}
