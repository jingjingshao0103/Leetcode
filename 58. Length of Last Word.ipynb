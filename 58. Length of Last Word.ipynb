{
 "cells": [
  {
   "cell_type": "markdown",
   "id": "589164c9",
   "metadata": {},
   "source": [
    "58. Length of Last Word\n",
    "Given a string s consisting of words and spaces, return the length of the last word in the string.\n",
    "\n",
    "A word is a maximal substring consisting of non-space characters only.\n"
   ]
  },
  {
   "cell_type": "code",
   "execution_count": 4,
   "id": "8176be07",
   "metadata": {},
   "outputs": [],
   "source": [
    "class Solution:\n",
    "    def lengthOfLastWord(self, s: str) -> int:\n",
    "        i = len(s)-1\n",
    "        while i>0 and s[i] ==\" \":\n",
    "            i -= 1\n",
    "        #find the last word start\n",
    "        j = 0\n",
    "        while i >0 and s[i] != \" \":\n",
    "            j += 1\n",
    "            i -= 1\n",
    "        #find the 'end' of the last word\n",
    "        return j\n",
    "    \n",
    "    def lengthOfLastWord_split(self, s: str) -> int:\n",
    "        return len(s.split[-1])"
   ]
  },
  {
   "cell_type": "code",
   "execution_count": 5,
   "id": "91258edb",
   "metadata": {},
   "outputs": [
    {
     "name": "stdout",
     "output_type": "stream",
     "text": [
      "4\n"
     ]
    }
   ],
   "source": [
    "sol= Solution()\n",
    "s = \"Toda Mi Vida\"\n",
    "print(sol.lengthOfLastWord(s))"
   ]
  }
 ],
 "metadata": {
  "kernelspec": {
   "display_name": "Python 3 (ipykernel)",
   "language": "python",
   "name": "python3"
  },
  "language_info": {
   "codemirror_mode": {
    "name": "ipython",
    "version": 3
   },
   "file_extension": ".py",
   "mimetype": "text/x-python",
   "name": "python",
   "nbconvert_exporter": "python",
   "pygments_lexer": "ipython3",
   "version": "3.9.12"
  }
 },
 "nbformat": 4,
 "nbformat_minor": 5
}
