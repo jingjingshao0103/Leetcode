{
 "cells": [
  {
   "cell_type": "markdown",
   "id": "006199c1",
   "metadata": {},
   "source": [
    "9. Palindrome Number\n",
    "An integer is a palindrome when it reads the same backward as forward (Symmetric)"
   ]
  },
  {
   "cell_type": "code",
   "execution_count": 1,
   "id": "9a8466a7",
   "metadata": {},
   "outputs": [],
   "source": [
    "class Solution:\n",
    "    def isPalindrome(self, x: int) -> bool:\n",
    "        return str(x) ==str(x)[::-1]"
   ]
  },
  {
   "cell_type": "code",
   "execution_count": 3,
   "id": "da003cb7",
   "metadata": {},
   "outputs": [
    {
     "name": "stdout",
     "output_type": "stream",
     "text": [
      "227 ns ± 5.55 ns per loop (mean ± std. dev. of 7 runs, 1,000,000 loops each)\n"
     ]
    }
   ],
   "source": [
    "import time\n",
    "sol = Solution()\n",
    "%timeit sol.isPalindrome(122331)"
   ]
  },
  {
   "cell_type": "markdown",
   "id": "c20de6e6",
   "metadata": {},
   "source": [
    "Notes: use reversed option from python for the str."
   ]
  }
 ],
 "metadata": {
  "kernelspec": {
   "display_name": "Python 3 (ipykernel)",
   "language": "python",
   "name": "python3"
  },
  "language_info": {
   "codemirror_mode": {
    "name": "ipython",
    "version": 3
   },
   "file_extension": ".py",
   "mimetype": "text/x-python",
   "name": "python",
   "nbconvert_exporter": "python",
   "pygments_lexer": "ipython3",
   "version": "3.8.11"
  }
 },
 "nbformat": 4,
 "nbformat_minor": 5
}
