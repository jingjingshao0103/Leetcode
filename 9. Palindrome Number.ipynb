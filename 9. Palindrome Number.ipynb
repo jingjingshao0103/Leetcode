{
 "cells": [
  {
   "cell_type": "markdown",
   "id": "006199c1",
   "metadata": {},
   "source": [
    "9. Palindrome Number\n",
    "An integer is a palindrome when it reads the same backward as forward (Symmetric)"
   ]
  },
  {
   "cell_type": "code",
   "execution_count": 17,
   "id": "9a8466a7",
   "metadata": {},
   "outputs": [],
   "source": [
    "class Solution:\n",
    "    def isPalindrome(self, x: int) -> bool:\n",
    "        return str(x) == str(x)[::-1]\n",
    "    \n",
    "    def isPalindrome_recursive(self, x:int) -> bool:\n",
    "        if len(str(x))< 2:\n",
    "            return True\n",
    "        if str(x)[0] != str(x)[-1]:\n",
    "            return False\n",
    "        else:\n",
    "            return self.isPalindrome_recursive(str(x)[1:-1]) \n",
    "        #remove the first and the last and give back to the function"
   ]
  },
  {
   "cell_type": "code",
   "execution_count": 18,
   "id": "da003cb7",
   "metadata": {},
   "outputs": [
    {
     "name": "stdout",
     "output_type": "stream",
     "text": [
      "1.12 µs ± 9.37 ns per loop (mean ± std. dev. of 7 runs, 1,000,000 loops each)\n",
      "True\n"
     ]
    }
   ],
   "source": [
    "import time\n",
    "sol = Solution()\n",
    "%timeit sol.isPalindrome_recursive(1234321)\n",
    "print(sol.isPalindrome_recursive(123321))"
   ]
  },
  {
   "cell_type": "markdown",
   "id": "c20de6e6",
   "metadata": {},
   "source": [
    "Notes: use reversed option from python for the str."
   ]
  }
 ],
 "metadata": {
  "kernelspec": {
   "display_name": "Python 3 (ipykernel)",
   "language": "python",
   "name": "python3"
  },
  "language_info": {
   "codemirror_mode": {
    "name": "ipython",
    "version": 3
   },
   "file_extension": ".py",
   "mimetype": "text/x-python",
   "name": "python",
   "nbconvert_exporter": "python",
   "pygments_lexer": "ipython3",
   "version": "3.9.12"
  }
 },
 "nbformat": 4,
 "nbformat_minor": 5
}
