{
 "cells": [
  {
   "cell_type": "markdown",
   "id": "006199c1",
   "metadata": {},
   "source": [
    "9. Palindrome Number\n",
    "An integer is a palindrome when it reads the same backward as forward (Symmetric)"
   ]
  },
  {
   "cell_type": "code",
   "execution_count": 1,
   "id": "9a8466a7",
   "metadata": {},
   "outputs": [],
   "source": [
    "class Solution:\n",
    "    def isPalindrome(self, x: int) -> bool:\n",
    "        if x<0:\n",
    "            return False\n",
    "        else:\n",
    "            return str(x) == str(x)[::-1]\n",
    "    \n",
    "    def isPalindrome_recursive(self, x:int) -> bool:\n",
    "        if len(str(x))< 2:\n",
    "            return True\n",
    "        if str(x)[0] != str(x)[-1]:\n",
    "            return False\n",
    "        else:\n",
    "            return self.isPalindrome_recursive(str(x)[1:-1]) \n",
    "        #remove the first and the last and give back to the function\n",
    "    \n",
    "    def isPalindrome_recursive_int(self, x:int, reverse_x:int) -> bool:\n",
    "        if x<0:\n",
    "            return False\n",
    "        else:\n",
    "            return x == self.get_reverse_recursive(x, reverse_x)\n",
    "    \n",
    "    def get_reverse_recursive(self, x:int, reverse_x = 0):\n",
    "        if x == 0:\n",
    "            return reverse_x            \n",
    "        residue = int(x%10)\n",
    "        reverse_x = reverse_x *10 + residue\n",
    "        x = int(x/10)\n",
    "        return self.get_reverse_recursive(x, reverse_x)       \n",
    "        \n",
    "        "
   ]
  },
  {
   "cell_type": "code",
   "execution_count": 2,
   "id": "da003cb7",
   "metadata": {},
   "outputs": [
    {
     "name": "stdout",
     "output_type": "stream",
     "text": [
      "1.11 µs ± 6.71 ns per loop (mean ± std. dev. of 7 runs, 1,000,000 loops each)\n",
      "False\n",
      "False\n"
     ]
    }
   ],
   "source": [
    "import time\n",
    "sol = Solution()\n",
    "%timeit sol.isPalindrome_recursive(1234321)\n",
    "print(sol.isPalindrome(-123321))\n",
    "print(sol.isPalindrome_recursive_int(-123567,0))"
   ]
  },
  {
   "cell_type": "markdown",
   "id": "9bbd95cc",
   "metadata": {},
   "source": [
    "Notes: \n",
    "1. use reversed option from python for the str.\n",
    "2. positional notation (multiplication and addition)\n",
    "f(x) = x_0 * b_0 + x_1 * b_1 + x_2 * b_2 + .... x_n * b_n\n",
    "where b_n = base^n\n",
    "similar to LCAO\n",
    "3. numeral based systems \n",
    "4. negative number takes one bit"
   ]
  }
 ],
 "metadata": {
  "kernelspec": {
   "display_name": "Python 3 (ipykernel)",
   "language": "python",
   "name": "python3"
  },
  "language_info": {
   "codemirror_mode": {
    "name": "ipython",
    "version": 3
   },
   "file_extension": ".py",
   "mimetype": "text/x-python",
   "name": "python",
   "nbconvert_exporter": "python",
   "pygments_lexer": "ipython3",
   "version": "3.9.12"
  }
 },
 "nbformat": 4,
 "nbformat_minor": 5
}
