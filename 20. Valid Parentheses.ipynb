{
 "cells": [
  {
   "cell_type": "markdown",
   "id": "c4298c52",
   "metadata": {},
   "source": [
    "20. Valid Parentheses\n",
    "\n",
    "Given a string s containing just the characters '(', ')', '{', '}', '['，']', determine if the input string is valid.\n",
    "\n",
    "An input string is valid if:\n",
    "\n",
    "Open brackets must be closed by the same type of brackets.\n",
    "Open brackets must be closed in the correct order."
   ]
  },
  {
   "cell_type": "code",
   "execution_count": 1,
   "id": "64853672",
   "metadata": {},
   "outputs": [],
   "source": [
    "class Solution:\n",
    "    def isValid(self, s: str) -> bool:\n",
    "        if len(s) % 2 != 0:\n",
    "            return False\n",
    "        stack = []\n",
    "        MAP = {\"(\":\")\", \"[\":\"]\",\"{\":\"}\"}\n",
    "        for i in s:\n",
    "            if i in MAP.keys():\n",
    "                stack.append(i) # store the left part of the paratheses\n",
    "            else:\n",
    "                if stack == []: # if no left part\n",
    "                    return False\n",
    "                a = stack.pop() # take the stack out and check whether i is right part\n",
    "                if i != MAP[a]:\n",
    "                    return False\n",
    "        return stack== []"
   ]
  },
  {
   "cell_type": "markdown",
   "id": "eae58044",
   "metadata": {},
   "source": [
    "1.To check the strs is even or odd number. If it is odd, then it is automatically a lone pair.\n",
    "2.Use the stack to store the left part of the paratheses \n",
    "3.take the left part out to check wheather right part is the corresponding value.\n",
    "4.only stack == [] is true"
   ]
  }
 ],
 "metadata": {
  "kernelspec": {
   "display_name": "Python 3 (ipykernel)",
   "language": "python",
   "name": "python3"
  },
  "language_info": {
   "codemirror_mode": {
    "name": "ipython",
    "version": 3
   },
   "file_extension": ".py",
   "mimetype": "text/x-python",
   "name": "python",
   "nbconvert_exporter": "python",
   "pygments_lexer": "ipython3",
   "version": "3.9.12"
  }
 },
 "nbformat": 4,
 "nbformat_minor": 5
}
