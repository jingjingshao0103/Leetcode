{
 "cells": [
  {
   "cell_type": "markdown",
   "id": "50275d46",
   "metadata": {},
   "source": [
    "1. Two Sum\n",
    "Given an array of integers nums and an integer target, return indices of the two numbers such that they add up to target.\n"
   ]
  },
  {
   "cell_type": "code",
   "execution_count": 10,
   "id": "7023eabb",
   "metadata": {},
   "outputs": [],
   "source": [
    "class Solution:\n",
    "# use hashmap to do the sum    \n",
    "    def hash_twoSum(self, nums, target):\n",
    "        hashmap = {} #match index and value\n",
    "        for i, value in enumerate(nums):\n",
    "            complement = target - value #check the complement in the hashmap\n",
    "            if complement in hashmap:\n",
    "                return[i,hashmap[complement]]\n",
    "            hashmap[value] = i  #if the complement is not there store the value in the hashmap with index i\n",
    "    \n",
    "    def double_loop_twoSum(self, nums, target):\n",
    "        for i in range(len(nums)):\n",
    "            for j in range(i+1, len(nums)):\n",
    "                if nums[j] == target - nums[i]:\n",
    "                    return [i,j]"
   ]
  },
  {
   "cell_type": "code",
   "execution_count": 13,
   "id": "a64afc2e",
   "metadata": {},
   "outputs": [
    {
     "name": "stdout",
     "output_type": "stream",
     "text": [
      "253 ns ± 0.253 ns per loop (mean ± std. dev. of 7 runs, 1,000,000 loops each)\n",
      "322 ns ± 1.09 ns per loop (mean ± std. dev. of 7 runs, 1,000,000 loops each)\n"
     ]
    }
   ],
   "source": [
    "import time\n",
    "nums = [2,7,11,15]\n",
    "target = 9\n",
    "sol = Solution()\n",
    "\n",
    "%timeit List = sol.hash_twoSum(nums,target)\n",
    "%timeit List = sol.double_loop_twoSum(nums,target)"
   ]
  },
  {
   "cell_type": "markdown",
   "id": "d773d319",
   "metadata": {},
   "source": [
    "Notes: hashmap method has O(n) time complexity and it requires O(n) space complexity to store the n elements in the hashmap, whereas double loop method has O(n^2) time complexity."
   ]
  }
 ],
 "metadata": {
  "kernelspec": {
   "display_name": "Python 3 (ipykernel)",
   "language": "python",
   "name": "python3"
  },
  "language_info": {
   "codemirror_mode": {
    "name": "ipython",
    "version": 3
   },
   "file_extension": ".py",
   "mimetype": "text/x-python",
   "name": "python",
   "nbconvert_exporter": "python",
   "pygments_lexer": "ipython3",
   "version": "3.9.12"
  }
 },
 "nbformat": 4,
 "nbformat_minor": 5
}
